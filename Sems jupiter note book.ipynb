{
 "cells": [
  {
   "cell_type": "markdown",
   "metadata": {
    "collapsed": true
   },
   "source": [
    "# Sem's Jupyter Notebook on IBM Watson Studio"
   ]
  },
  {
   "cell_type": "markdown",
   "metadata": {},
   "source": [
    "My name is **Bugsem Bertiz**. I created this notebook for the last assignment of the Tools for Data Science module."
   ]
  },
  {
   "cell_type": "markdown",
   "metadata": {},
   "source": [
    "Here I listed 8 different data science languages. These are,\n",
    "1. Phyton\n",
    "2. R\n",
    "3. SQL\n",
    "4. Java\n",
    "5. Julia\n",
    "6. Scala\n",
    "7. SAS\n",
    "8. MATLAB\n"
   ]
  },
  {
   "cell_type": "markdown",
   "metadata": {},
   "source": [
    "There are many libraries and tools available for data science in various programming languages. The choice of library or tool will depend on the specific needs of the project and the programming language being used. Here are some popular libraries and tools:\n",
    "* Phyton\n",
    "    * NumPy: A library for numerical computing with Python.\n",
    "    * pandas: A library for data manipulation and analysis.\n",
    "    * Matplotlib: A library for creating static, animated, and interactive visualizations in Python.\n",
    "    * scikit-learn: A machine learning library that provides a range of algorithms for classification, regression, and clustering.\n",
    "    * TensorFlow: An open-source machine learning framework developed by Google.\n",
    "    \n",
    "* R\n",
    "    * dplyr: A library for data manipulation and transformation.\n",
    "    * ggplot2: A library for data visualization.\n",
    "    * caret: A machine learning library that provides a range of algorithms for classification, regression, and clustering.\n",
    "    * tidyverse: A collection of libraries for data manipulation, visualization, and analysis in R.\n",
    "  \n",
    "* SQL\n",
    "    * SQL Server: A relational database management system developed by Microsoft.\n",
    "    * PostgreSQL: An open-source object-relational database management system.\n",
    "    * MySQL: An open-source relational database management system.\n",
    "    \n",
    "* Java\n",
    "    * Apache Hadoop: An open-source software framework for storing and processing large datasets in a distributed environment.\n",
    "    * Apache Spark: An open-source distributed computing system for big data processing.\n",
    "    * Weka: A collection of machine learning algorithms for data mining tasks.\n",
    "    \n",
    "* MATLAB\n",
    "    * Statistics and Machine Learning Toolbox: A collection of tools for statistical analysis and machine learning.\n",
    "    * Deep Learning Toolbox: A collection of tools for designing, training, and deploying deep neural networks.\n",
    "    * Image Processing Toolbox: A collection of tools for image analysis and processing.\n",
    "* SAS\n",
    "    * SAS Enterprise Miner: A tool for data mining and predictive modeling.\n",
    "    * SAS Visual Analytics: A tool for visual data exploration and analysis.\n",
    "    * SAS Data Management: A tool for data preparation and quality.\n",
    "* Julia\n",
    "    * DataFrames.jl: A library for working with tabular data in Julia.\n",
    "    * Flux.jl: A library for machine learning in Julia.\n",
    "    * Plots.jl: A library for creating visualizations in Julia.\n",
    "* Scala\n",
    "    * Apache Spark: An open-source distributed computing system for big data processing.\n",
    "    * Breeze: A library for numerical processing and machine learning in Scala.\n",
    "    * Deeplearning4j: An open-source deep learning library for the JVM.\n"
   ]
  },
  {
   "cell_type": "markdown",
   "metadata": {},
   "source": [
    "This table contains a small selection of many data science tools as a examples to show. \n",
    "| Category | Tool |\n",
    "| -------- | ---- |\n",
    "| Programming Languages:| Python |\n",
    "|  | R |\n",
    "|  | SQL |\n",
    "| Integrated Development Environments (IDEs):| Jupyter Notebook |\n",
    "|  | Spyder |\n",
    "|  | RStudio |\n",
    "| Libraries and Frameworks: | NumPy |\n",
    "|  | pandas |\n",
    "|  | Matplotlib |\n",
    "|  | Scikit-learn |\n",
    "|  | TensorFlow |\n",
    "|  | Keras |\n",
    "|  | PyTorch |\n",
    "|  | ggplot2 |\n",
    "|  | dplyr |\n",
    "|  | caret |\n",
    "| Visualization Tools: | Tableau |\n",
    "|  | Power BI |\n",
    "|  | Seaborn |\n",
    "|  | Plotly |\n",
    "| Big Data Tools: | Hadoop |\n",
    "|  | Spark |\n",
    "|  | Hive |\n"
   ]
  },
  {
   "cell_type": "markdown",
   "metadata": {},
   "source": [
    "### Sem's Arithmetic Expressions in Python\n",
    "\n",
    "Python provides support for various arithmetic operations that can be performed on numerical data types like integers, floating-point numbers, and complex numbers. These operations include addition, subtraction, multiplication, division, and modulo. Below are a few examples of evaluating arithmetic expressions in Python\n",
    "\n",
    "\n"
   ]
  },
  {
   "cell_type": "code",
   "execution_count": 14,
   "metadata": {},
   "outputs": [
    {
     "data": {
      "text/plain": [
       "17"
      ]
     },
     "execution_count": 14,
     "metadata": {},
     "output_type": "execute_result"
    }
   ],
   "source": [
    "# This a simple arithmetic expression to mutiply then add integers.\n",
    "(3*4)+5    # Output: 17"
   ]
  },
  {
   "cell_type": "code",
   "execution_count": 15,
   "metadata": {},
   "outputs": [
    {
     "name": "stdout",
     "output_type": "stream",
     "text": [
      "2.0\n"
     ]
    }
   ],
   "source": [
    "# This will convert 120 minutes to hours by dividing by 60\n",
    "minutes = 120\n",
    "hours = minutes / 60\n",
    "print(hours)"
   ]
  },
  {
   "cell_type": "markdown",
   "metadata": {},
   "source": [
    "**Objectives**: \n",
    "- Gaining a broader understanding of the field of data science and its various applications.\n",
    "- Understanding the different categories and tools that are commonly used in data science, including programming languages, libraries, frameworks, and visualization tools.\n",
    "- Familiarizing oneself with the various data science tools and choosing the best tools for a particular data science project.\n",
    "- Understanding how to create and format tables in Markdown for use in Jupyter Notebook.\n",
    "- Understanding the basics of arithmetic expressions in Python, including operators like addition, subtraction, multiplication, division, and modulo.\n",
    "- Understanding how to use variables in arithmetic expressions to perform calculations on changing data.\n",
    "- Knowing how to convert minutes to hours using arithmetic expressions in Python."
   ]
  },
  {
   "cell_type": "markdown",
   "metadata": {},
   "source": [
    "## Author\n",
    "My name is Bugsem Bertiz. I am the author of this jupiter notebook. "
   ]
  },
  {
   "cell_type": "code",
   "execution_count": null,
   "metadata": {},
   "outputs": [],
   "source": []
  }
 ],
 "metadata": {
  "kernelspec": {
   "display_name": "Python 3.10",
   "language": "python",
   "name": "python3"
  },
  "language_info": {
   "codemirror_mode": {
    "name": "ipython",
    "version": 3
   },
   "file_extension": ".py",
   "mimetype": "text/x-python",
   "name": "python",
   "nbconvert_exporter": "python",
   "pygments_lexer": "ipython3",
   "version": "3.10.6"
  }
 },
 "nbformat": 4,
 "nbformat_minor": 1
}
